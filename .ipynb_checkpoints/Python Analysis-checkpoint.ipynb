{
 "cells": [
  {
   "cell_type": "markdown",
   "id": "e3a18578-f310-4bcb-b0cb-8dfd5677bd5d",
   "metadata": {},
   "source": [
    "# Winding Tree Market Analysis"
   ]
  },
  {
   "cell_type": "code",
   "execution_count": 36,
   "id": "906d9822-659e-402f-afb8-216e0721094d",
   "metadata": {},
   "outputs": [
    {
     "name": "stdout",
     "output_type": "stream",
     "text": [
      "LIFv1 summary statistics\n",
      "count      6364.00\n",
      "mean       3924.64\n",
      "std       84544.01\n",
      "min           0.00\n",
      "25%         166.44\n",
      "50%         500.00\n",
      "75%        1301.06\n",
      "max     6302593.13\n",
      "Name: amount, dtype: float64\n",
      "\n",
      "LIFv2 summary statistics\n",
      "count        490.00\n",
      "mean       50972.33\n",
      "std       843808.19\n",
      "min            0.00\n",
      "25%          856.52\n",
      "50%         2108.67\n",
      "75%         9324.24\n",
      "max     18674596.32\n",
      "Name: amount, dtype: float64\n",
      "\n",
      "Total LIFv1 supply: 24976439.451356363\n",
      "Total LIFv2 supply: 24976439.451356363\n",
      "Number of LIFv1 holders: 6363\n",
      "Number of LIFv2 holders: 489\n"
     ]
    }
   ],
   "source": [
    "import pandas as pd\n",
    "\n",
    "# Set the output format\n",
    "pd.options.display.float_format = '{:.2f}'.format\n",
    "\n",
    "# let's get all the data\n",
    "df_lifv1_dextracker = pd.read_csv('lifv1-dextracker.csv')\n",
    "df_lifv2_dextracker = pd.read_csv('lifv2-dextracker.csv')\n",
    "df_lifv1_tokenholders = pd.read_csv('lifv1-tokenholders.csv')\n",
    "df_lifv2_tokenholders = pd.read_csv('lifv2-tokenholders.csv')\n",
    "\n",
    "# Summary data\n",
    "print(\"LIFv1 summary statistics\")\n",
    "print(df_lifv1_tokenholders['amount'].describe())\n",
    "print(\"\\nLIFv2 summary statistics\")\n",
    "print(df_lifv2_tokenholders['amount'].describe())\n",
    "\n",
    "# Market supply data\n",
    "market_supply_lifv1 = df_lifv1_tokenholders['amount'].sum()\n",
    "market_supply_lifv2 = df_lifv2_tokenholders['amount'].sum()\n",
    "\n",
    "# Token holder data\n",
    "num_lifv1_holders = df_lifv1_tokenholders['amount'].count() - 1 # Reduce by 1 to remove LIFv2 contract\n",
    "num_lifv2_holders = df_lifv2_tokenholders['amount'].count() - 1 # Reduce by 1 to remove LIFv2 contract\n",
    "num_holders = num_lifv1_holders + num_lifv2_holders\n",
    "\n",
    "print(\"\\nTotal LIFv1 supply: {}\".format(market_supply_lifv1))\n",
    "print(\"Total LIFv2 supply: {}\".format(market_supply_lifv2))\n",
    "print(\"Number of LIFv1 holders: {}\".format(num_lifv1_holders))\n",
    "print(\"Number of LIFv2 holders: {}\".format(num_lifv2_holders))"
   ]
  },
  {
   "cell_type": "code",
   "execution_count": 25,
   "id": "76079403-8395-4173-abf5-3ed408b182e9",
   "metadata": {},
   "outputs": [
    {
     "name": "stdout",
     "output_type": "stream",
     "text": [
      "LIFv2 claimed: 6301843.12768073 / 24976439.451356363 (25.231150901048483%)\n"
     ]
    }
   ],
   "source": [
    "# Calculate the amount of LIF that has been converted to LIFv2\n",
    "\n",
    "# The amount of LIF claimed excludes the highest LIFv2 token holder address which is the LIFv2 contract itself.\n",
    "lif_claimed = df_lifv2_tokenholders['amount'].iloc[1:-1].sum()\n",
    "percent_claimed = lif_claimed / market_supply_lifv2\n",
    "\n",
    "print(\"LIFv2 claimed: {} / {} ({}%)\".format(lif_claimed, market_supply_lifv2, (percent_claimed * 100)))"
   ]
  },
  {
   "cell_type": "code",
   "execution_count": 42,
   "id": "2da4063e-f8bc-44bc-aa30-fe77ab894eb7",
   "metadata": {},
   "outputs": [
    {
     "name": "stdout",
     "output_type": "stream",
     "text": [
      "LIF effectively out of circulation: 2918839.6149315815\n",
      "LIF wallets effected: 5271 / 6852 (76.92644483362521%)\n"
     ]
    }
   ],
   "source": [
    "# Let's analyse the uneconomical wallets for claiming...\n",
    "min_lif_amount = 2103 / 1 # change the denominator here to reflect an 'x' increase in price for uneconomical assessment\n",
    "df_uneconomical = df_lifv1_tokenholders.loc[df_lifv1_tokenholders.amount <= min_lif_amount, :]\n",
    "\n",
    "uneconomical_market_supply = df_uneconomical['amount'].sum()\n",
    "uneconomical_affected_wallets = df_uneconomical['amount'].count()\n",
    "\n",
    "print(\"LIF effectively out of circulation: {}\".format(uneconomical_market_supply))\n",
    "print(\"LIF wallets effected: {} / {} ({}%)\".format(uneconomical_affected_wallets, num_holders, (uneconomical_affected_wallets / num_holders * 100)))"
   ]
  },
  {
   "cell_type": "code",
   "execution_count": 44,
   "id": "3967ce73-4fb7-44c5-bd06-ac0a9bf9db15",
   "metadata": {},
   "outputs": [
    {
     "name": "stdout",
     "output_type": "stream",
     "text": [
      "If LIFv1 was disregarded now, for a 51% attack, this would require the collusion of 3150921.563840365 token supply\n"
     ]
    }
   ],
   "source": [
    "# Nakamoto co-efficient analysis\n",
    "\n",
    "lifv2_attack_amount = lif_claimed / 2\n",
    "\n",
    "print(\"If LIFv1 was disregarded now, for a 51% attack, this would require the collusion of {} token supply\".format(lifv2_attack_amount))"
   ]
  },
  {
   "cell_type": "code",
   "execution_count": 61,
   "id": "88c74c36-178a-435c-9229-f7dbf96d9cd1",
   "metadata": {},
   "outputs": [
    {
     "name": "stdout",
     "output_type": "stream",
     "text": [
      "The LIFv2 nakamoto coefficient is: 20\n"
     ]
    }
   ],
   "source": [
    "lifv2_nakamoto_coefficient_check = 20\n",
    "if (df_lifv2_tokenholders['amount'].iloc[1:(lifv2_nakamoto_coefficient_check+1)].sum() > lifv2_attack_amount):\n",
    "    print(\"The LIFv2 nakamoto coefficient is: {}\".format(lifv2_nakamoto_coefficient_check))\n",
    "else:\n",
    "    print(\"{} is insufficient for a 51% attack\".format(lifv2_nakamoto_coefficient_check))"
   ]
  },
  {
   "cell_type": "code",
   "execution_count": 81,
   "id": "ea737a9a-3425-4e4e-ac63-bb7f5110da32",
   "metadata": {},
   "outputs": [
    {
     "name": "stdout",
     "output_type": "stream",
     "text": [
      "count   1655.0000000000\n",
      "mean       0.0001730595\n",
      "std        0.0013236749\n",
      "min        0.0000393600\n",
      "25%        0.0000842550\n",
      "50%        0.0001056900\n",
      "75%        0.0001684600\n",
      "max        0.0538768100\n",
      "Name: Swapped Rate, dtype: float64\n",
      "count   71.0000000000\n",
      "mean     0.0001111290\n",
      "std      0.0000332345\n",
      "min      0.0000999300\n",
      "25%      0.0001008950\n",
      "50%      0.0001028300\n",
      "75%      0.0001088400\n",
      "max      0.0003305700\n",
      "Name: Swapped Rate, dtype: float64\n"
     ]
    }
   ],
   "source": [
    "# Check the DEX traders on LIFv1\n",
    "\n",
    "df_lifv1_dextracker\n",
    "df_lifv1_dextracker[\"Date Time (UTC)\"] = pd.to_datetime(df_lifv1_dextracker[\"Date Time (UTC)\"])\n",
    "\n",
    "date_mask = (df_lifv1_dextracker[\"Date Time (UTC)\"].dt.year >= 2021)\n",
    "\n",
    "print(df_lifv1_dextracker[date_mask][\"Swapped Rate\"].describe())\n",
    "print(df_lifv2_dextracker[\"Swapped Rate\"].describe())\n",
    "\n",
    "# pd.options.display.float_format = '{:.10f}'.format\n",
    "# print(df_lifv1_dextracker[\"Swapped Rate\"].describe())\n",
    "# print(df_lifv2_dextracker[\"Swapped Rate\"].describe())\n"
   ]
  }
 ],
 "metadata": {
  "kernelspec": {
   "display_name": "Python 3 (ipykernel)",
   "language": "python",
   "name": "python3"
  },
  "language_info": {
   "codemirror_mode": {
    "name": "ipython",
    "version": 3
   },
   "file_extension": ".py",
   "mimetype": "text/x-python",
   "name": "python",
   "nbconvert_exporter": "python",
   "pygments_lexer": "ipython3",
   "version": "3.9.9"
  }
 },
 "nbformat": 4,
 "nbformat_minor": 5
}
